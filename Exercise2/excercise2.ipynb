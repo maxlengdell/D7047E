{
 "cells": [
  {
   "cell_type": "code",
   "execution_count": 98,
   "metadata": {},
   "outputs": [],
   "source": [
    "import torch\n",
    "import torchvision\n",
    "import torchvision.transforms as transforms\n",
    "import torch.nn as nn\n",
    "import torch.nn.functional as F\n",
    "import torch.optim as optim\n",
    "from torch.utils.tensorboard import SummaryWriter\n",
    "import tensorboard\n",
    "\n",
    "import os\n",
    "import matplotlib.pyplot as plt\n",
    "import time\n",
    "import copy\n",
    "import numpy as np"
   ]
  },
  {
   "cell_type": "markdown",
   "metadata": {},
   "source": [
    "# Downloading  and  preparing  CIFAR-10  dataset "
   ]
  },
  {
   "cell_type": "code",
   "execution_count": 14,
   "metadata": {},
   "outputs": [
    {
     "name": "stdout",
     "output_type": "stream",
     "text": [
      "Files already downloaded and verified\n",
      "Files already downloaded and verified\n"
     ]
    }
   ],
   "source": [
    "transform = transforms.Compose(\n",
    "    [transforms.Resize(224),\n",
    "     transforms.ToTensor(),\n",
    "     transforms.Normalize((0.5, 0.5, 0.5), (0.5, 0.5, 0.5))])\n",
    "\n",
    "trainset = torchvision.datasets.CIFAR10(root='./data', train=True,\n",
    "                                        download=True, transform=transform)\n",
    "trainloader = torch.utils.data.DataLoader(trainset, batch_size=4,\n",
    "                                          shuffle=True, num_workers=2)\n",
    "\n",
    "testset = torchvision.datasets.CIFAR10(root='./data', train=False,\n",
    "                                       download=True, transform=transform)\n",
    "testloader = torch.utils.data.DataLoader(testset, batch_size=4,\n",
    "                                         shuffle=False, num_workers=2)\n",
    "\n",
    "classes = ('plane', 'car', 'bird', 'cat',\n",
    "           'deer', 'dog', 'frog', 'horse', 'ship', 'truck')\n",
    "\n",
    "#images, labels = next(iter(trainloader))"
   ]
  },
  {
   "cell_type": "markdown",
   "metadata": {},
   "source": [
    "# Downloading AlexNet and adding fully connected layer"
   ]
  },
  {
   "cell_type": "code",
   "execution_count": 3,
   "metadata": {},
   "outputs": [
    {
     "name": "stderr",
     "output_type": "stream",
     "text": [
      "Using cache found in C:\\Users\\andre/.cache\\torch\\hub\\pytorch_vision_v0.9.0\n",
      "Downloading: \"https://download.pytorch.org/models/alexnet-owt-4df8aa71.pth\" to C:\\Users\\andre/.cache\\torch\\hub\\checkpoints\\alexnet-owt-4df8aa71.pth\n"
     ]
    },
    {
     "data": {
      "application/vnd.jupyter.widget-view+json": {
       "model_id": "6590e0a4a43c41f5bd09ed4198aa6a20",
       "version_major": 2,
       "version_minor": 0
      },
      "text/plain": [
       "  0%|          | 0.00/233M [00:00<?, ?B/s]"
      ]
     },
     "metadata": {},
     "output_type": "display_data"
    }
   ],
   "source": [
    "model = torch.hub.load('pytorch/vision:v0.9.0', 'alexnet', pretrained=True)\n",
    "model.classifier[6] = nn.Linear(4096,10)\n",
    "model.eval()\n",
    "\n",
    "device = torch.device(\"cuda:0\" if torch.cuda.is_available() else \"cpu\")\n",
    "model.to(device)\n",
    "criterion = nn.CrossEntropyLoss()\n",
    "optimizer = optim.SGD(model.parameters(), lr=0.0001, momentum=0.9)"
   ]
  },
  {
   "cell_type": "code",
   "execution_count": 15,
   "metadata": {},
   "outputs": [
    {
     "name": "stderr",
     "output_type": "stream",
     "text": [
      "Using cache found in C:\\Users\\andre/.cache\\torch\\hub\\pytorch_vision_v0.9.0\n"
     ]
    }
   ],
   "source": [
    "model_2 = torch.hub.load('pytorch/vision:v0.9.0', 'alexnet', pretrained=True)\n",
    "\n",
    "device = torch.device(\"cuda:0\" if torch.cuda.is_available() else \"cpu\")\n",
    "criterion = nn.CrossEntropyLoss()\n",
    "optimizer = optim.SGD(model_2.parameters(), lr=0.0001, momentum=0.9)"
   ]
  },
  {
   "cell_type": "code",
   "execution_count": 24,
   "metadata": {},
   "outputs": [
    {
     "data": {
      "text/plain": [
       "AlexNet(\n",
       "  (features): Sequential(\n",
       "    (0): Conv2d(3, 64, kernel_size=(11, 11), stride=(4, 4), padding=(2, 2))\n",
       "    (1): ReLU(inplace=True)\n",
       "    (2): MaxPool2d(kernel_size=3, stride=2, padding=0, dilation=1, ceil_mode=False)\n",
       "    (3): Conv2d(64, 192, kernel_size=(5, 5), stride=(1, 1), padding=(2, 2))\n",
       "    (4): ReLU(inplace=True)\n",
       "    (5): MaxPool2d(kernel_size=3, stride=2, padding=0, dilation=1, ceil_mode=False)\n",
       "    (6): Conv2d(192, 384, kernel_size=(3, 3), stride=(1, 1), padding=(1, 1))\n",
       "    (7): ReLU(inplace=True)\n",
       "    (8): Conv2d(384, 256, kernel_size=(3, 3), stride=(1, 1), padding=(1, 1))\n",
       "    (9): ReLU(inplace=True)\n",
       "    (10): Conv2d(256, 256, kernel_size=(3, 3), stride=(1, 1), padding=(1, 1))\n",
       "    (11): ReLU(inplace=True)\n",
       "    (12): MaxPool2d(kernel_size=3, stride=2, padding=0, dilation=1, ceil_mode=False)\n",
       "  )\n",
       "  (avgpool): AdaptiveAvgPool2d(output_size=(6, 6))\n",
       "  (classifier): Sequential(\n",
       "    (0): Dropout(p=0.5, inplace=False)\n",
       "    (1): Linear(in_features=9216, out_features=4096, bias=True)\n",
       "    (2): ReLU(inplace=True)\n",
       "    (3): Dropout(p=0.5, inplace=False)\n",
       "    (4): Linear(in_features=4096, out_features=4096, bias=True)\n",
       "    (5): ReLU(inplace=True)\n",
       "    (6): Linear(in_features=4096, out_features=10, bias=True)\n",
       "  )\n",
       ")"
      ]
     },
     "execution_count": 24,
     "metadata": {},
     "output_type": "execute_result"
    }
   ],
   "source": [
    "for param in model_2.parameters():\n",
    "    param.requeires_grad = False\n",
    "model_2.classifier[6] = nn.Linear(4096,10)\n",
    "\n",
    "model_2.eval()\n",
    "model_2.to(device)"
   ]
  },
  {
   "cell_type": "markdown",
   "metadata": {},
   "source": [
    "# Finetuning / Training"
   ]
  },
  {
   "cell_type": "code",
   "execution_count": 8,
   "metadata": {},
   "outputs": [
    {
     "name": "stdout",
     "output_type": "stream",
     "text": [
      "[1,  2000] loss: 2.302\n",
      "Accuracy:  0.108125\n",
      "[1,  4000] loss: 2.302\n",
      "Accuracy:  0.104625\n",
      "[1,  6000] loss: 2.302\n",
      "Accuracy:  0.10845833333333334\n",
      "[1,  8000] loss: 2.301\n",
      "Accuracy:  0.1110625\n",
      "[1, 10000] loss: 2.300\n",
      "Accuracy:  0.124225\n",
      "[1, 12000] loss: 2.297\n",
      "Accuracy:  0.1338125\n",
      "[2,  2000] loss: 2.277\n",
      "Accuracy:  0.17375\n",
      "[2,  4000] loss: 2.072\n",
      "Accuracy:  0.2135625\n",
      "[2,  6000] loss: 1.919\n",
      "Accuracy:  0.24270833333333333\n",
      "[2,  8000] loss: 1.810\n",
      "Accuracy:  0.269375\n",
      "[2, 10000] loss: 1.719\n",
      "Accuracy:  0.2903\n",
      "[2, 12000] loss: 1.651\n",
      "Accuracy:  0.3071875\n",
      "[3,  2000] loss: 1.592\n",
      "Accuracy:  0.419375\n",
      "[3,  4000] loss: 1.559\n",
      "Accuracy:  0.4241875\n",
      "[3,  6000] loss: 1.525\n",
      "Accuracy:  0.43083333333333335\n",
      "[3,  8000] loss: 1.499\n",
      "Accuracy:  0.43484375\n",
      "[3, 10000] loss: 1.464\n",
      "Accuracy:  0.4422\n",
      "[3, 12000] loss: 1.434\n",
      "Accuracy:  0.4488333333333333\n",
      "[4,  2000] loss: 1.401\n",
      "Accuracy:  0.48975\n",
      "[4,  4000] loss: 1.369\n",
      "Accuracy:  0.4965625\n",
      "[4,  6000] loss: 1.354\n",
      "Accuracy:  0.5040833333333333\n",
      "[4,  8000] loss: 1.352\n",
      "Accuracy:  0.5058125\n",
      "[4, 10000] loss: 1.307\n",
      "Accuracy:  0.510425\n",
      "[4, 12000] loss: 1.303\n",
      "Accuracy:  0.515375\n",
      "[5,  2000] loss: 1.261\n",
      "Accuracy:  0.553\n",
      "[5,  4000] loss: 1.227\n",
      "Accuracy:  0.561875\n",
      "[5,  6000] loss: 1.204\n",
      "Accuracy:  0.5625416666666667\n",
      "[5,  8000] loss: 1.188\n",
      "Accuracy:  0.5663125\n",
      "[5, 10000] loss: 1.188\n",
      "Accuracy:  0.569575\n",
      "[5, 12000] loss: 1.170\n",
      "Accuracy:  0.5720416666666667\n",
      "[6,  2000] loss: 1.115\n",
      "Accuracy:  0.609125\n",
      "[6,  4000] loss: 1.083\n",
      "Accuracy:  0.6118125\n",
      "[6,  6000] loss: 1.064\n",
      "Accuracy:  0.6145833333333334\n",
      "[6,  8000] loss: 1.066\n",
      "Accuracy:  0.6179375\n",
      "[6, 10000] loss: 1.041\n",
      "Accuracy:  0.622025\n",
      "[6, 12000] loss: 1.031\n",
      "Accuracy:  0.6260416666666667\n",
      "[7,  2000] loss: 0.956\n",
      "Accuracy:  0.660125\n",
      "[7,  4000] loss: 0.943\n",
      "Accuracy:  0.6671875\n",
      "[7,  6000] loss: 0.935\n",
      "Accuracy:  0.6689583333333333\n",
      "[7,  8000] loss: 0.929\n",
      "Accuracy:  0.670625\n",
      "[7, 10000] loss: 0.912\n",
      "Accuracy:  0.671925\n",
      "[7, 12000] loss: 0.921\n",
      "Accuracy:  0.6722291666666667\n",
      "[8,  2000] loss: 0.823\n",
      "Accuracy:  0.7115\n",
      "[8,  4000] loss: 0.829\n",
      "Accuracy:  0.712125\n",
      "[8,  6000] loss: 0.804\n",
      "Accuracy:  0.7135833333333333\n",
      "[8,  8000] loss: 0.815\n",
      "Accuracy:  0.7149375\n",
      "[8, 10000] loss: 0.793\n",
      "Accuracy:  0.716525\n",
      "[8, 12000] loss: 0.807\n",
      "Accuracy:  0.7172708333333333\n",
      "[9,  2000] loss: 0.702\n",
      "Accuracy:  0.753625\n",
      "[9,  4000] loss: 0.701\n",
      "Accuracy:  0.755125\n",
      "[9,  6000] loss: 0.695\n",
      "Accuracy:  0.756125\n",
      "[9,  8000] loss: 0.711\n",
      "Accuracy:  0.75471875\n",
      "[9, 10000] loss: 0.701\n",
      "Accuracy:  0.753425\n",
      "[9, 12000] loss: 0.669\n",
      "Accuracy:  0.7562708333333333\n",
      "[10,  2000] loss: 0.568\n",
      "Accuracy:  0.799\n",
      "[10,  4000] loss: 0.581\n",
      "Accuracy:  0.7976875\n",
      "[10,  6000] loss: 0.583\n",
      "Accuracy:  0.7975\n",
      "[10,  8000] loss: 0.593\n",
      "Accuracy:  0.79609375\n",
      "[10, 10000] loss: 0.583\n",
      "Accuracy:  0.795125\n",
      "[10, 12000] loss: 0.595\n",
      "Accuracy:  0.794875\n",
      "Finished Training\n"
     ]
    }
   ],
   "source": [
    "for epoch in range(10):  # loop over the dataset multiple times\n",
    "\n",
    "    running_loss = 0.0\n",
    "    total = 0\n",
    "    correct = 0\n",
    "    for i, data in enumerate(trainloader, 0):\n",
    "        # get the inputs; data is a list of [inputs, labels]\n",
    "        inputs, labels = data[0].to(device), data[1].to(device)\n",
    "        #inputs, labels = data\n",
    "        \n",
    "        # zero the parameter gradients\n",
    "        optimizer.zero_grad()\n",
    "\n",
    "        # forward + backward + optimize\n",
    "        outputs = model(inputs).to(device)\n",
    "        loss = criterion(outputs, labels)\n",
    "        loss.backward()\n",
    "        optimizer.step()\n",
    "\n",
    "        \n",
    "        _, predicted = torch.max(outputs.data, 1)\n",
    "        total += labels.size(0)\n",
    "        correct += (predicted == labels).sum().item()\n",
    "\n",
    "        # print statistics\n",
    "        running_loss += loss.item()\n",
    "#         writer.add_scalar('Loss/train', loss.item(), i)\n",
    "#         writer.add_scalar('Accuracy/train', correct/total, i)\n",
    "       \n",
    "        if i % 2000 == 1999:    # print every 2000 mini-batches\n",
    "            print('[%d, %5d] loss: %.3f' %\n",
    "                  (epoch + 1, i + 1, running_loss / 2000))\n",
    "            running_loss = 0.0\n",
    "            print(\"Accuracy: \", correct/total)\n",
    "\n",
    "print('Finished Training')"
   ]
  },
  {
   "cell_type": "markdown",
   "metadata": {},
   "source": [
    "# Training (Feature Extraction, only training last layer)"
   ]
  },
  {
   "cell_type": "code",
   "execution_count": 25,
   "metadata": {},
   "outputs": [
    {
     "name": "stdout",
     "output_type": "stream",
     "text": [
      "[1,  2000] loss: 1.267\n",
      "Accuracy:  0.552625\n",
      "[1,  4000] loss: 0.763\n",
      "Accuracy:  0.6420625\n",
      "[1,  6000] loss: 0.632\n",
      "Accuracy:  0.6890416666666667\n",
      "[1,  8000] loss: 0.578\n",
      "Accuracy:  0.7175625\n",
      "[1, 10000] loss: 0.520\n",
      "Accuracy:  0.7381\n",
      "[1, 12000] loss: 0.493\n",
      "Accuracy:  0.7528541666666667\n",
      "[2,  2000] loss: 0.427\n",
      "Accuracy:  0.849625\n",
      "[2,  4000] loss: 0.398\n",
      "Accuracy:  0.855125\n",
      "[2,  6000] loss: 0.385\n",
      "Accuracy:  0.8594583333333333\n",
      "[2,  8000] loss: 0.397\n",
      "Accuracy:  0.86040625\n",
      "[2, 10000] loss: 0.376\n",
      "Accuracy:  0.8623\n",
      "[2, 12000] loss: 0.364\n",
      "Accuracy:  0.8644791666666667\n",
      "[3,  2000] loss: 0.306\n",
      "Accuracy:  0.8955\n",
      "[3,  4000] loss: 0.292\n",
      "Accuracy:  0.89575\n",
      "[3,  6000] loss: 0.307\n",
      "Accuracy:  0.8959583333333333\n",
      "[3,  8000] loss: 0.294\n",
      "Accuracy:  0.89690625\n",
      "[3, 10000] loss: 0.288\n",
      "Accuracy:  0.8975\n",
      "[3, 12000] loss: 0.289\n",
      "Accuracy:  0.8976666666666666\n",
      "[4,  2000] loss: 0.230\n",
      "Accuracy:  0.923875\n",
      "[4,  4000] loss: 0.223\n",
      "Accuracy:  0.92475\n",
      "[4,  6000] loss: 0.225\n",
      "Accuracy:  0.9236666666666666\n",
      "[4,  8000] loss: 0.231\n",
      "Accuracy:  0.9215625\n",
      "[4, 10000] loss: 0.246\n",
      "Accuracy:  0.92075\n",
      "[4, 12000] loss: 0.230\n",
      "Accuracy:  0.9204375\n",
      "[5,  2000] loss: 0.167\n",
      "Accuracy:  0.945875\n",
      "[5,  4000] loss: 0.180\n",
      "Accuracy:  0.94275\n",
      "[5,  6000] loss: 0.196\n",
      "Accuracy:  0.938875\n",
      "[5,  8000] loss: 0.194\n",
      "Accuracy:  0.9379375\n",
      "[5, 10000] loss: 0.181\n",
      "Accuracy:  0.938025\n",
      "[5, 12000] loss: 0.183\n",
      "Accuracy:  0.937875\n",
      "[6,  2000] loss: 0.131\n",
      "Accuracy:  0.957875\n",
      "[6,  4000] loss: 0.144\n",
      "Accuracy:  0.95375\n",
      "[6,  6000] loss: 0.132\n",
      "Accuracy:  0.9542916666666666\n",
      "[6,  8000] loss: 0.150\n",
      "Accuracy:  0.952625\n",
      "[6, 10000] loss: 0.145\n",
      "Accuracy:  0.95195\n",
      "[6, 12000] loss: 0.158\n",
      "Accuracy:  0.950875\n",
      "[7,  2000] loss: 0.097\n",
      "Accuracy:  0.969625\n",
      "[7,  4000] loss: 0.109\n",
      "Accuracy:  0.967\n",
      "[7,  6000] loss: 0.115\n",
      "Accuracy:  0.9657083333333333\n",
      "[7,  8000] loss: 0.110\n",
      "Accuracy:  0.96490625\n",
      "[7, 10000] loss: 0.110\n",
      "Accuracy:  0.964875\n",
      "[7, 12000] loss: 0.105\n",
      "Accuracy:  0.9652083333333333\n",
      "[8,  2000] loss: 0.076\n",
      "Accuracy:  0.97825\n",
      "[8,  4000] loss: 0.085\n",
      "Accuracy:  0.97525\n",
      "[8,  6000] loss: 0.075\n",
      "Accuracy:  0.9751666666666666\n",
      "[8,  8000] loss: 0.080\n",
      "Accuracy:  0.97484375\n",
      "[8, 10000] loss: 0.086\n",
      "Accuracy:  0.974175\n",
      "[8, 12000] loss: 0.081\n",
      "Accuracy:  0.9740208333333333\n",
      "[9,  2000] loss: 0.047\n",
      "Accuracy:  0.985875\n",
      "[9,  4000] loss: 0.060\n",
      "Accuracy:  0.9835625\n",
      "[9,  6000] loss: 0.065\n",
      "Accuracy:  0.982\n",
      "[9,  8000] loss: 0.054\n",
      "Accuracy:  0.98221875\n",
      "[9, 10000] loss: 0.061\n",
      "Accuracy:  0.981625\n",
      "[9, 12000] loss: 0.064\n",
      "Accuracy:  0.9812083333333333\n",
      "[10,  2000] loss: 0.039\n",
      "Accuracy:  0.990125\n",
      "[10,  4000] loss: 0.040\n",
      "Accuracy:  0.989\n",
      "[10,  6000] loss: 0.035\n",
      "Accuracy:  0.9896666666666667\n",
      "[10,  8000] loss: 0.040\n",
      "Accuracy:  0.98925\n",
      "[10, 10000] loss: 0.042\n",
      "Accuracy:  0.988925\n",
      "[10, 12000] loss: 0.043\n",
      "Accuracy:  0.9886666666666667\n",
      "Finished Training\n"
     ]
    }
   ],
   "source": [
    "for epoch in range(10):  # loop over the dataset multiple times\n",
    "\n",
    "    running_loss = 0.0\n",
    "    total = 0\n",
    "    correct = 0\n",
    "    for i, data in enumerate(trainloader, 0):\n",
    "        # get the inputs; data is a list of [inputs, labels]\n",
    "        inputs, labels = data[0].to(device), data[1].to(device)\n",
    "        #inputs, labels = data\n",
    "        \n",
    "        # zero the parameter gradients\n",
    "        optimizer.zero_grad()\n",
    "\n",
    "        # forward + backward + optimize\n",
    "        outputs = model_2(inputs).to(device)\n",
    "        loss = criterion(outputs, labels)\n",
    "        loss.backward()\n",
    "        optimizer.step()\n",
    "\n",
    "        \n",
    "        _, predicted = torch.max(outputs.data, 1)\n",
    "        total += labels.size(0)\n",
    "        correct += (predicted == labels).sum().item()\n",
    "\n",
    "        # print statistics\n",
    "        running_loss += loss.item()\n",
    "#         writer.add_scalar('Loss/train', loss.item(), i)\n",
    "#         writer.add_scalar('Accuracy/train', correct/total, i)\n",
    "       \n",
    "        if i % 2000 == 1999:    # print every 2000 mini-batches\n",
    "            print('[%d, %5d] loss: %.3f' %\n",
    "                  (epoch + 1, i + 1, running_loss / 2000))\n",
    "            running_loss = 0.0\n",
    "            print(\"Accuracy: \", correct/total)\n",
    "\n",
    "print('Finished Training')"
   ]
  },
  {
   "cell_type": "markdown",
   "metadata": {},
   "source": [
    "# Testing (on finetuned model)"
   ]
  },
  {
   "cell_type": "code",
   "execution_count": 5,
   "metadata": {},
   "outputs": [
    {
     "name": "stdout",
     "output_type": "stream",
     "text": [
      "Accuracy of the network on the 10000 test images: 72 %\n"
     ]
    }
   ],
   "source": [
    "correct = 0\n",
    "total = 0\n",
    "with torch.no_grad():\n",
    "    for data in testloader:\n",
    "        images, labels = data[0].to(device), data[1].to(device)\n",
    "        #images, labels = data\n",
    "        outputs = model(images)\n",
    "        _, predicted = torch.max(outputs.data, 1)\n",
    "        total += labels.size(0)\n",
    "        correct += (predicted == labels).sum().item()\n",
    "\n",
    "print('Accuracy of the network on the 10000 test images: %d %%' % (\n",
    "    100 * correct / total))"
   ]
  },
  {
   "cell_type": "markdown",
   "metadata": {},
   "source": [
    "# Testing (AlexNet as Feature Extraction)"
   ]
  },
  {
   "cell_type": "code",
   "execution_count": 26,
   "metadata": {},
   "outputs": [
    {
     "name": "stdout",
     "output_type": "stream",
     "text": [
      "Accuracy of the network on the 10000 test images: 89 %\n"
     ]
    }
   ],
   "source": [
    "correct = 0\n",
    "total = 0\n",
    "with torch.no_grad():\n",
    "    for data in testloader:\n",
    "        images, labels = data[0].to(device), data[1].to(device)\n",
    "        #images, labels = data\n",
    "        outputs = model_2(images)\n",
    "        _, predicted = torch.max(outputs.data, 1)\n",
    "        total += labels.size(0)\n",
    "        correct += (predicted == labels).sum().item()\n",
    "\n",
    "print('Accuracy of the network on the 10000 test images: %d %%' % (\n",
    "    100 * correct / total))"
   ]
  },
  {
   "cell_type": "code",
   "execution_count": 21,
   "metadata": {},
   "outputs": [],
   "source": [
    "torch.save(model.state_dict(), \"model.pt\")"
   ]
  },
  {
   "cell_type": "code",
   "execution_count": 4,
   "metadata": {},
   "outputs": [
    {
     "data": {
      "text/plain": [
       "<All keys matched successfully>"
      ]
     },
     "execution_count": 4,
     "metadata": {},
     "output_type": "execute_result"
    }
   ],
   "source": [
    "model.load_state_dict(torch.load(\"model.pt\"))"
   ]
  },
  {
   "cell_type": "markdown",
   "metadata": {},
   "source": [
    "# Train on MNIST"
   ]
  },
  {
   "cell_type": "code",
   "execution_count": 83,
   "metadata": {},
   "outputs": [],
   "source": [
    "learning_rate = 0.1e-2\n",
    "batch_size_train = 64\n",
    "batch_size_test = 1000\n",
    "\n",
    "\n",
    "momentum = 0.5\n",
    "epochs = 10\n",
    "log_interval = 100"
   ]
  },
  {
   "cell_type": "code",
   "execution_count": 84,
   "metadata": {},
   "outputs": [],
   "source": [
    "#MNIST\n",
    "train_mnist = torchvision.datasets.MNIST('mnist/', train=True, download=True,\n",
    "                             transform=torchvision.transforms.Compose([\n",
    "                               torchvision.transforms.ToTensor(),\n",
    "                               torchvision.transforms.Normalize(\n",
    "                                 (0.1307,), (0.3081,))]))\n",
    "\n",
    "\n",
    "test_mnist = torchvision.datasets.MNIST('mnist/', train=False, download=True,\n",
    "                             transform=torchvision.transforms.Compose([\n",
    "                               torchvision.transforms.ToTensor(),\n",
    "                               torchvision.transforms.Normalize(\n",
    "                                 (0.1307,), (0.3081,))]))\n",
    "\n",
    "train_loader = torch.utils.data.DataLoader(train_mnist,batch_size=batch_size_train, shuffle=True)\n",
    "test_loader = torch.utils.data.DataLoader(test_mnist,batch_size=batch_size_test, shuffle=True)\n"
   ]
  },
  {
   "cell_type": "code",
   "execution_count": 163,
   "metadata": {},
   "outputs": [
    {
     "name": "stdout",
     "output_type": "stream",
     "text": [
      "Using downloaded and verified file: svhn/train_32x32.mat\n",
      "Using downloaded and verified file: svhn/test_32x32.mat\n"
     ]
    }
   ],
   "source": [
    "#SVHN\n",
    "train_svhn = torchvision.datasets.SVHN('svhn/', split='train', download=True,\n",
    "                             transform=torchvision.transforms.Compose([\n",
    "                               torchvision.transforms.ToTensor(),\n",
    "                                torchvision.transforms.Grayscale(),\n",
    "                                 torchvision.transforms.Resize((28,28)),\n",
    "                               torchvision.transforms.Normalize(\n",
    "                                 (0.1307,), (0.3081,))]))\n",
    "\n",
    "\n",
    "test_svhn = torchvision.datasets.SVHN('svhn/', split='test', download=True,\n",
    "                             transform=torchvision.transforms.Compose([\n",
    "                               torchvision.transforms.ToTensor(),\n",
    "                             torchvision.transforms.Grayscale(),\n",
    "                              torchvision.transforms.Resize((28,28)),\n",
    "                               torchvision.transforms.Normalize(\n",
    "                                 (0.1307,), (0.3081,))]))\n",
    "\n",
    "train_svhn_loader = torch.utils.data.DataLoader(train_svhn,batch_size=64, shuffle=True)\n",
    "test_svhn_loader = torch.utils.data.DataLoader(test_svhn,batch_size=1000, shuffle=True)\n",
    "\n"
   ]
  },
  {
   "cell_type": "code",
   "execution_count": 123,
   "metadata": {},
   "outputs": [],
   "source": [
    "train_features, train_labels = next(iter(train_loader))\n",
    "test_features, test_labels = next(iter(test_loader))"
   ]
  },
  {
   "cell_type": "code",
   "execution_count": 124,
   "metadata": {},
   "outputs": [
    {
     "name": "stdout",
     "output_type": "stream",
     "text": [
      "torch.Size([1, 28, 28])\n"
     ]
    }
   ],
   "source": [
    "print(train_features[0].shape)"
   ]
  },
  {
   "cell_type": "code",
   "execution_count": 164,
   "metadata": {},
   "outputs": [
    {
     "data": {
      "image/png": "[encoded data removed]",
      "text/plain": [
       "<Figure size 432x288 with 6 Axes>"
      ]
     },
     "execution_count": 164,
     "metadata": {},
     "output_type": "execute_result"
    },
    {
     "data": {
      "image/png": "[encoded data removed]",
      "text/plain": [
       "<Figure size 432x288 with 6 Axes>"
      ]
     },
     "metadata": {},
     "output_type": "display_data"
    }
   ],
   "source": [
    "import matplotlib.pyplot as plt\n",
    "\n",
    "examples = enumerate(test_svhn_loader)\n",
    "batch_idx, (example_data, example_targets) = next(examples)\n",
    "\n",
    "fig = plt.figure()\n",
    "for i in range(6):\n",
    "    plt.subplot(2,3,i+1)\n",
    "    plt.tight_layout()\n",
    "    plt.imshow(example_data[i][0], cmap='gray', interpolation='none')\n",
    "    plt.title(\"Ground Truth: {}\".format(example_targets[i]))\n",
    "    plt.xticks([])\n",
    "    plt.yticks([])\n",
    "fig"
   ]
  },
  {
   "cell_type": "code",
   "execution_count": 125,
   "metadata": {},
   "outputs": [],
   "source": [
    "class Mnist_model(nn.Module):\n",
    "    def __init__(self):\n",
    "        super().__init__()\n",
    "        self.conv1 = nn.Conv2d(1,6,kernel_size = 5,stride = 1,padding=2)\n",
    "        self.avgPool = nn.AvgPool2d(kernel_size = 2,stride=2)\n",
    "        self.conv2 = nn.Conv2d(6,16,kernel_size = 5,stride=1)\n",
    "        self.conv3 = nn.Conv2d(16,120,kernel_size = 5,stride=1)\n",
    "\n",
    "        self.fc1 = nn.Linear(120,84)\n",
    "        self.fc2 = nn.Linear(84,10)\n",
    "        \n",
    "\n",
    "    def forward(self, x):\n",
    "        x = F.tanh(self.conv1(x))\n",
    "        x = self.avgPool(x)\n",
    "        \n",
    "        x = F.tanh(self.conv2(x))\n",
    "        x = self.avgPool(x)\n",
    "        \n",
    "        x = F.tanh(self.conv3(x))\n",
    "        \n",
    "        x = x.view(-1,120)\n",
    "        \n",
    "        x = F.tanh(self.fc1(x))\n",
    "        x = self.fc2(x)\n",
    "        \n",
    "        return F.log_softmax(x)\n",
    "\n",
    "\n",
    "class Net(nn.Module):\n",
    "    def __init__(self):\n",
    "        super(Net, self).__init__()\n",
    "        self.conv1 = nn.Conv2d(1, 10, kernel_size=5)\n",
    "        self.conv2 = nn.Conv2d(10, 20, kernel_size=5)\n",
    "        self.conv2_drop = nn.Dropout2d()\n",
    "        self.fc1 = nn.Linear(320, 50)\n",
    "        self.fc2 = nn.Linear(50, 10)\n",
    "\n",
    "    def forward(self, x):\n",
    "        x = F.relu(F.max_pool2d(self.conv1(x), 2))\n",
    "        x = F.relu(F.max_pool2d(self.conv2_drop(self.conv2(x)), 2))\n",
    "        x = x.view(-1, 320)\n",
    "        x = F.relu(self.fc1(x))\n",
    "        x = F.dropout(x, training=self.training)\n",
    "        x = self.fc2(x)\n",
    "        return F.log_softmax(x)\n",
    "mnist_model = Mnist_model()\n",
    "\n"
   ]
  },
  {
   "cell_type": "code",
   "execution_count": 126,
   "metadata": {},
   "outputs": [],
   "source": [
    "optimizer = optim.SGD(mnist_model.parameters(), lr=learning_rate,\n",
    "                      momentum=momentum)"
   ]
  },
  {
   "cell_type": "code",
   "execution_count": 127,
   "metadata": {},
   "outputs": [],
   "source": [
    "def load_model(filename):\n",
    "    model = Mnist_model()\n",
    "    model.load_state_dict(torch.load(filename))\n",
    "    model.eval()\n",
    "    return model"
   ]
  },
  {
   "cell_type": "code",
   "execution_count": 182,
   "metadata": {},
   "outputs": [],
   "source": [
    "def load_optimizer(model,filename,learning_rate, momentum):\n",
    "    opt = optim.SGD(model.parameters(),lr=learning_rate,momentum=momentum)\n",
    "    opt.load_state_dict(torch.load(filename))\n",
    "    return opt"
   ]
  },
  {
   "cell_type": "code",
   "execution_count": 168,
   "metadata": {},
   "outputs": [],
   "source": [
    "train_losses = []\n",
    "train_counter = []\n",
    "writer = SummaryWriter()\n",
    "def train(epochs,network,train_loader,optimizer, filename=\"model.pth\"):\n",
    "    \n",
    "    network.train()\n",
    "    for epoch in range(epochs):\n",
    "        \n",
    "        for batch_idx, (data, target) in enumerate(train_loader):\n",
    "            optimizer.zero_grad()\n",
    "            output = network(data)\n",
    "\n",
    "            loss = F.cross_entropy(output, target)\n",
    "            loss.backward()\n",
    "            optimizer.step()\n",
    "\n",
    "            if batch_idx % log_interval == 0:\n",
    "                print('Train Epoch: {} [{}/{} ({:.0f}%)]\\tLoss: {:.6f}'.format(\n",
    "                epoch, batch_idx * len(data), len(train_loader.dataset),\n",
    "                100. * batch_idx / len(train_loader), loss.item()))\n",
    "                train_losses.append(loss.item())\n",
    "                train_counter.append(\n",
    "                (batch_idx*64) + ((epoch-1)*len(train_loader.dataset)))\n",
    "\n",
    "    torch.save(network.state_dict(), str('results/'+ filename))\n",
    "    torch.save(optimizer.state_dict(), str('results/'+ \"optimizer_\" + filename))\n",
    "\n"
   ]
  },
  {
   "cell_type": "code",
   "execution_count": 169,
   "metadata": {},
   "outputs": [],
   "source": [
    "test_losses = []\n",
    "test_counter = [i*len(train_loader.dataset) for i in range(epochs + 1)]\n",
    "\n",
    "def test(network,test_loader):\n",
    "    network.eval()\n",
    "    test_loss = 0\n",
    "    correct = 0\n",
    "    \n",
    "    with torch.no_grad():\n",
    "        for data, target in test_loader:\n",
    "            output = network(data)\n",
    "            test_loss += F.cross_entropy(output, target, size_average=False).item()\n",
    "            pred = output.data.max(1, keepdim=True)[1]\n",
    "            correct += pred.eq(target.data.view_as(pred)).sum()\n",
    "            test_loss /= len(test_loader.dataset)\n",
    "            test_losses.append(test_loss)\n",
    "            \n",
    "    print('\\rTest set: Avg. loss: {:.4f}, Accuracy: {}/{} ({:.0f}%)\\n'.format(\n",
    "    test_loss, correct, len(test_loader.dataset),\n",
    "    100. * correct / len(test_loader.dataset)), end=\"\\r\")"
   ]
  },
  {
   "cell_type": "code",
   "execution_count": 171,
   "metadata": {},
   "outputs": [
    {
     "name": "stderr",
     "output_type": "stream",
     "text": [
      "<ipython-input-125-9f487b786d10>:27: UserWarning: Implicit dimension choice for log_softmax has been deprecated. Change the call to include dim=X as an argument.\n",
      "  return F.log_softmax(x)\n"
     ]
    },
    {
     "name": "stdout",
     "output_type": "stream",
     "text": [
      "Train Epoch: 0 [0/60000 (0%)]\tLoss: 2.121437\n",
      "Train Epoch: 0 [6400/60000 (11%)]\tLoss: 2.081174\n",
      "Train Epoch: 0 [12800/60000 (21%)]\tLoss: 2.004048\n",
      "Train Epoch: 0 [19200/60000 (32%)]\tLoss: 1.973738\n",
      "Train Epoch: 0 [25600/60000 (43%)]\tLoss: 1.920931\n",
      "Train Epoch: 0 [32000/60000 (53%)]\tLoss: 1.770432\n",
      "Train Epoch: 0 [38400/60000 (64%)]\tLoss: 1.748576\n",
      "Train Epoch: 0 [44800/60000 (75%)]\tLoss: 1.676574\n",
      "Train Epoch: 0 [51200/60000 (85%)]\tLoss: 1.567088\n",
      "Train Epoch: 0 [57600/60000 (96%)]\tLoss: 1.470178\n",
      "Train Epoch: 1 [0/60000 (0%)]\tLoss: 1.461261\n",
      "Train Epoch: 1 [6400/60000 (11%)]\tLoss: 1.468510\n",
      "Train Epoch: 1 [12800/60000 (21%)]\tLoss: 1.313055\n",
      "Train Epoch: 1 [19200/60000 (32%)]\tLoss: 1.242304\n",
      "Train Epoch: 1 [25600/60000 (43%)]\tLoss: 1.332695\n",
      "Train Epoch: 1 [32000/60000 (53%)]\tLoss: 1.093024\n",
      "Train Epoch: 1 [38400/60000 (64%)]\tLoss: 1.107316\n",
      "Train Epoch: 1 [44800/60000 (75%)]\tLoss: 1.009749\n",
      "Train Epoch: 1 [51200/60000 (85%)]\tLoss: 0.998736\n",
      "Train Epoch: 1 [57600/60000 (96%)]\tLoss: 0.970531\n",
      "Train Epoch: 2 [0/60000 (0%)]\tLoss: 0.880087\n",
      "Train Epoch: 2 [6400/60000 (11%)]\tLoss: 0.869144\n",
      "Train Epoch: 2 [12800/60000 (21%)]\tLoss: 0.930565\n",
      "Train Epoch: 2 [19200/60000 (32%)]\tLoss: 0.833046\n",
      "Train Epoch: 2 [25600/60000 (43%)]\tLoss: 0.902589\n",
      "Train Epoch: 2 [32000/60000 (53%)]\tLoss: 0.634925\n",
      "Train Epoch: 2 [38400/60000 (64%)]\tLoss: 0.814753\n",
      "Train Epoch: 2 [44800/60000 (75%)]\tLoss: 0.786456\n",
      "Train Epoch: 2 [51200/60000 (85%)]\tLoss: 0.710646\n",
      "Train Epoch: 2 [57600/60000 (96%)]\tLoss: 0.609183\n",
      "Train Epoch: 3 [0/60000 (0%)]\tLoss: 0.728918\n",
      "Train Epoch: 3 [6400/60000 (11%)]\tLoss: 0.761276\n",
      "Train Epoch: 3 [12800/60000 (21%)]\tLoss: 0.627873\n",
      "Train Epoch: 3 [19200/60000 (32%)]\tLoss: 0.659352\n",
      "Train Epoch: 3 [25600/60000 (43%)]\tLoss: 0.653114\n",
      "Train Epoch: 3 [32000/60000 (53%)]\tLoss: 0.543149\n",
      "Train Epoch: 3 [38400/60000 (64%)]\tLoss: 0.617057\n",
      "Train Epoch: 3 [44800/60000 (75%)]\tLoss: 0.785650\n",
      "Train Epoch: 3 [51200/60000 (85%)]\tLoss: 0.621914\n",
      "Train Epoch: 3 [57600/60000 (96%)]\tLoss: 0.593232\n",
      "Train Epoch: 4 [0/60000 (0%)]\tLoss: 0.557449\n",
      "Train Epoch: 4 [6400/60000 (11%)]\tLoss: 0.547879\n",
      "Train Epoch: 4 [12800/60000 (21%)]\tLoss: 0.685612\n",
      "Train Epoch: 4 [19200/60000 (32%)]\tLoss: 0.508750\n",
      "Train Epoch: 4 [25600/60000 (43%)]\tLoss: 0.621015\n",
      "Train Epoch: 4 [32000/60000 (53%)]\tLoss: 0.624957\n",
      "Train Epoch: 4 [38400/60000 (64%)]\tLoss: 0.595213\n",
      "Train Epoch: 4 [44800/60000 (75%)]\tLoss: 0.443669\n",
      "Train Epoch: 4 [51200/60000 (85%)]\tLoss: 0.489653\n",
      "Train Epoch: 4 [57600/60000 (96%)]\tLoss: 0.432194\n",
      "Train Epoch: 5 [0/60000 (0%)]\tLoss: 0.424966\n",
      "Train Epoch: 5 [6400/60000 (11%)]\tLoss: 0.528825\n",
      "Train Epoch: 5 [12800/60000 (21%)]\tLoss: 0.596444\n",
      "Train Epoch: 5 [19200/60000 (32%)]\tLoss: 0.360847\n",
      "Train Epoch: 5 [25600/60000 (43%)]\tLoss: 0.375799\n",
      "Train Epoch: 5 [32000/60000 (53%)]\tLoss: 0.358354\n",
      "Train Epoch: 5 [38400/60000 (64%)]\tLoss: 0.480365\n",
      "Train Epoch: 5 [44800/60000 (75%)]\tLoss: 0.396696\n",
      "Train Epoch: 5 [51200/60000 (85%)]\tLoss: 0.442116\n",
      "Train Epoch: 5 [57600/60000 (96%)]\tLoss: 0.479159\n",
      "Train Epoch: 6 [0/60000 (0%)]\tLoss: 0.331094\n",
      "Train Epoch: 6 [6400/60000 (11%)]\tLoss: 0.575818\n",
      "Train Epoch: 6 [12800/60000 (21%)]\tLoss: 0.319412\n",
      "Train Epoch: 6 [19200/60000 (32%)]\tLoss: 0.491300\n",
      "Train Epoch: 6 [25600/60000 (43%)]\tLoss: 0.338450\n",
      "Train Epoch: 6 [32000/60000 (53%)]\tLoss: 0.350135\n",
      "Train Epoch: 6 [38400/60000 (64%)]\tLoss: 0.305299\n",
      "Train Epoch: 6 [44800/60000 (75%)]\tLoss: 0.375303\n",
      "Train Epoch: 6 [51200/60000 (85%)]\tLoss: 0.398672\n",
      "Train Epoch: 6 [57600/60000 (96%)]\tLoss: 0.347401\n",
      "Train Epoch: 7 [0/60000 (0%)]\tLoss: 0.486058\n",
      "Train Epoch: 7 [6400/60000 (11%)]\tLoss: 0.312515\n",
      "Train Epoch: 7 [12800/60000 (21%)]\tLoss: 0.449618\n",
      "Train Epoch: 7 [19200/60000 (32%)]\tLoss: 0.365595\n",
      "Train Epoch: 7 [25600/60000 (43%)]\tLoss: 0.316966\n",
      "Train Epoch: 7 [32000/60000 (53%)]\tLoss: 0.328311\n",
      "Train Epoch: 7 [38400/60000 (64%)]\tLoss: 0.290411\n",
      "Train Epoch: 7 [44800/60000 (75%)]\tLoss: 0.307771\n",
      "Train Epoch: 7 [51200/60000 (85%)]\tLoss: 0.316140\n",
      "Train Epoch: 7 [57600/60000 (96%)]\tLoss: 0.203056\n",
      "Train Epoch: 8 [0/60000 (0%)]\tLoss: 0.300750\n",
      "Train Epoch: 8 [6400/60000 (11%)]\tLoss: 0.479883\n",
      "Train Epoch: 8 [12800/60000 (21%)]\tLoss: 0.380158\n",
      "Train Epoch: 8 [19200/60000 (32%)]\tLoss: 0.354747\n",
      "Train Epoch: 8 [25600/60000 (43%)]\tLoss: 0.469041\n",
      "Train Epoch: 8 [32000/60000 (53%)]\tLoss: 0.321581\n",
      "Train Epoch: 8 [38400/60000 (64%)]\tLoss: 0.495095\n",
      "Train Epoch: 8 [44800/60000 (75%)]\tLoss: 0.362707\n",
      "Train Epoch: 8 [51200/60000 (85%)]\tLoss: 0.434858\n",
      "Train Epoch: 8 [57600/60000 (96%)]\tLoss: 0.534452\n",
      "Train Epoch: 9 [0/60000 (0%)]\tLoss: 0.335731\n",
      "Train Epoch: 9 [6400/60000 (11%)]\tLoss: 0.401371\n",
      "Train Epoch: 9 [12800/60000 (21%)]\tLoss: 0.269521\n",
      "Train Epoch: 9 [19200/60000 (32%)]\tLoss: 0.380170\n",
      "Train Epoch: 9 [25600/60000 (43%)]\tLoss: 0.245085\n",
      "Train Epoch: 9 [32000/60000 (53%)]\tLoss: 0.307056\n",
      "Train Epoch: 9 [38400/60000 (64%)]\tLoss: 0.336655\n",
      "Train Epoch: 9 [44800/60000 (75%)]\tLoss: 0.431334\n",
      "Train Epoch: 9 [51200/60000 (85%)]\tLoss: 0.439839\n",
      "Train Epoch: 9 [57600/60000 (96%)]\tLoss: 0.377034\n"
     ]
    }
   ],
   "source": [
    "train(epochs,mnist_model,train_loader,optimizer,\"mnist_model.pth\")"
   ]
  },
  {
   "cell_type": "code",
   "execution_count": 173,
   "metadata": {},
   "outputs": [
    {
     "name": "stderr",
     "output_type": "stream",
     "text": [
      "<ipython-input-125-9f487b786d10>:27: UserWarning: Implicit dimension choice for log_softmax has been deprecated. Change the call to include dim=X as an argument.\n",
      "  return F.log_softmax(x)\n"
     ]
    },
    {
     "name": "stdout",
     "output_type": "stream",
     "text": [
      "\r",
      "Test set: Avg. loss: 0.0324, Accuracy: 9120/10000 (91%)\n",
      "\r"
     ]
    }
   ],
   "source": [
    "test(mnist_model, test_loader)"
   ]
  },
  {
   "cell_type": "markdown",
   "metadata": {},
   "source": [
    "90% accuracy on MNIST\n"
   ]
  },
  {
   "cell_type": "markdown",
   "metadata": {},
   "source": [
    "## SVHN from pretrained MNIST model"
   ]
  },
  {
   "cell_type": "code",
   "execution_count": 174,
   "metadata": {},
   "outputs": [
    {
     "name": "stderr",
     "output_type": "stream",
     "text": [
      "<ipython-input-125-9f487b786d10>:27: UserWarning: Implicit dimension choice for log_softmax has been deprecated. Change the call to include dim=X as an argument.\n",
      "  return F.log_softmax(x)\n"
     ]
    },
    {
     "name": "stdout",
     "output_type": "stream",
     "text": [
      "\r",
      "Test set: Avg. loss: 0.0065, Accuracy: 2357/26032 (9%)\n",
      "\r"
     ]
    }
   ],
   "source": [
    "pretrained_mnist = load_model('results/mnist_model.pth')\n",
    "\n",
    "test(pretrained_mnist, test_svhn_loader)"
   ]
  },
  {
   "cell_type": "markdown",
   "metadata": {},
   "source": [
    "## Transfer learning"
   ]
  },
  {
   "cell_type": "code",
   "execution_count": 184,
   "metadata": {},
   "outputs": [
    {
     "name": "stderr",
     "output_type": "stream",
     "text": [
      "<ipython-input-125-9f487b786d10>:27: UserWarning: Implicit dimension choice for log_softmax has been deprecated. Change the call to include dim=X as an argument.\n",
      "  return F.log_softmax(x)\n"
     ]
    },
    {
     "name": "stdout",
     "output_type": "stream",
     "text": [
      "Train Epoch: 0 [0/73257 (0%)]\tLoss: 5.800743\n",
      "Train Epoch: 0 [6400/73257 (9%)]\tLoss: 2.803069\n",
      "Train Epoch: 0 [12800/73257 (17%)]\tLoss: 2.356941\n",
      "Train Epoch: 0 [19200/73257 (26%)]\tLoss: 2.329160\n",
      "Train Epoch: 0 [25600/73257 (35%)]\tLoss: 2.200252\n",
      "Train Epoch: 0 [32000/73257 (44%)]\tLoss: 2.275250\n",
      "Train Epoch: 0 [38400/73257 (52%)]\tLoss: 2.305744\n",
      "Train Epoch: 0 [44800/73257 (61%)]\tLoss: 2.090626\n",
      "Train Epoch: 0 [51200/73257 (70%)]\tLoss: 2.278731\n",
      "Train Epoch: 0 [57600/73257 (79%)]\tLoss: 2.200186\n",
      "Train Epoch: 0 [64000/73257 (87%)]\tLoss: 2.231621\n",
      "Train Epoch: 0 [70400/73257 (96%)]\tLoss: 2.176791\n",
      "Train Epoch: 1 [0/73257 (0%)]\tLoss: 2.208328\n",
      "Train Epoch: 1 [6400/73257 (9%)]\tLoss: 2.271117\n",
      "Train Epoch: 1 [12800/73257 (17%)]\tLoss: 2.063429\n",
      "Train Epoch: 1 [19200/73257 (26%)]\tLoss: 2.221268\n",
      "Train Epoch: 1 [25600/73257 (35%)]\tLoss: 2.255403\n",
      "Train Epoch: 1 [32000/73257 (44%)]\tLoss: 2.259790\n",
      "Train Epoch: 1 [38400/73257 (52%)]\tLoss: 2.248225\n",
      "Train Epoch: 1 [44800/73257 (61%)]\tLoss: 2.197451\n",
      "Train Epoch: 1 [51200/73257 (70%)]\tLoss: 2.171352\n",
      "Train Epoch: 1 [57600/73257 (79%)]\tLoss: 2.252477\n",
      "Train Epoch: 1 [64000/73257 (87%)]\tLoss: 2.245962\n",
      "Train Epoch: 1 [70400/73257 (96%)]\tLoss: 2.201664\n",
      "Train Epoch: 2 [0/73257 (0%)]\tLoss: 2.182108\n",
      "Train Epoch: 2 [6400/73257 (9%)]\tLoss: 2.252231\n",
      "Train Epoch: 2 [12800/73257 (17%)]\tLoss: 2.229332\n",
      "Train Epoch: 2 [19200/73257 (26%)]\tLoss: 2.213947\n",
      "Train Epoch: 2 [25600/73257 (35%)]\tLoss: 2.175528\n",
      "Train Epoch: 2 [32000/73257 (44%)]\tLoss: 2.266237\n",
      "Train Epoch: 2 [38400/73257 (52%)]\tLoss: 2.163693\n",
      "Train Epoch: 2 [44800/73257 (61%)]\tLoss: 2.182905\n",
      "Train Epoch: 2 [51200/73257 (70%)]\tLoss: 2.110922\n",
      "Train Epoch: 2 [57600/73257 (79%)]\tLoss: 2.155632\n",
      "Train Epoch: 2 [64000/73257 (87%)]\tLoss: 2.144676\n",
      "Train Epoch: 2 [70400/73257 (96%)]\tLoss: 2.120702\n",
      "Train Epoch: 3 [0/73257 (0%)]\tLoss: 2.188630\n",
      "Train Epoch: 3 [6400/73257 (9%)]\tLoss: 2.084671\n",
      "Train Epoch: 3 [12800/73257 (17%)]\tLoss: 2.196160\n",
      "Train Epoch: 3 [19200/73257 (26%)]\tLoss: 2.186539\n",
      "Train Epoch: 3 [25600/73257 (35%)]\tLoss: 2.157869\n",
      "Train Epoch: 3 [32000/73257 (44%)]\tLoss: 2.152892\n",
      "Train Epoch: 3 [38400/73257 (52%)]\tLoss: 2.217075\n",
      "Train Epoch: 3 [44800/73257 (61%)]\tLoss: 2.161953\n",
      "Train Epoch: 3 [51200/73257 (70%)]\tLoss: 2.041325\n",
      "Train Epoch: 3 [57600/73257 (79%)]\tLoss: 2.253957\n",
      "Train Epoch: 3 [64000/73257 (87%)]\tLoss: 2.140435\n",
      "Train Epoch: 3 [70400/73257 (96%)]\tLoss: 2.274944\n",
      "Train Epoch: 4 [0/73257 (0%)]\tLoss: 2.107561\n",
      "Train Epoch: 4 [6400/73257 (9%)]\tLoss: 2.268587\n",
      "Train Epoch: 4 [12800/73257 (17%)]\tLoss: 2.172356\n",
      "Train Epoch: 4 [19200/73257 (26%)]\tLoss: 2.167717\n",
      "Train Epoch: 4 [25600/73257 (35%)]\tLoss: 2.172157\n",
      "Train Epoch: 4 [32000/73257 (44%)]\tLoss: 2.157317\n",
      "Train Epoch: 4 [38400/73257 (52%)]\tLoss: 2.042233\n",
      "Train Epoch: 4 [44800/73257 (61%)]\tLoss: 2.201133\n",
      "Train Epoch: 4 [51200/73257 (70%)]\tLoss: 2.119913\n",
      "Train Epoch: 4 [57600/73257 (79%)]\tLoss: 2.185555\n",
      "Train Epoch: 4 [64000/73257 (87%)]\tLoss: 2.055230\n",
      "Train Epoch: 4 [70400/73257 (96%)]\tLoss: 2.158932\n",
      "Train Epoch: 5 [0/73257 (0%)]\tLoss: 2.103522\n",
      "Train Epoch: 5 [6400/73257 (9%)]\tLoss: 2.230962\n",
      "Train Epoch: 5 [12800/73257 (17%)]\tLoss: 2.299588\n",
      "Train Epoch: 5 [19200/73257 (26%)]\tLoss: 2.196511\n",
      "Train Epoch: 5 [25600/73257 (35%)]\tLoss: 2.030924\n",
      "Train Epoch: 5 [32000/73257 (44%)]\tLoss: 2.213519\n",
      "Train Epoch: 5 [38400/73257 (52%)]\tLoss: 2.195024\n",
      "Train Epoch: 5 [44800/73257 (61%)]\tLoss: 2.088742\n",
      "Train Epoch: 5 [51200/73257 (70%)]\tLoss: 2.183960\n",
      "Train Epoch: 5 [57600/73257 (79%)]\tLoss: 2.178703\n",
      "Train Epoch: 5 [64000/73257 (87%)]\tLoss: 2.119406\n",
      "Train Epoch: 5 [70400/73257 (96%)]\tLoss: 2.141380\n",
      "Train Epoch: 6 [0/73257 (0%)]\tLoss: 2.140729\n",
      "Train Epoch: 6 [6400/73257 (9%)]\tLoss: 2.137353\n",
      "Train Epoch: 6 [12800/73257 (17%)]\tLoss: 2.177274\n",
      "Train Epoch: 6 [19200/73257 (26%)]\tLoss: 2.109095\n",
      "Train Epoch: 6 [25600/73257 (35%)]\tLoss: 2.191681\n",
      "Train Epoch: 6 [32000/73257 (44%)]\tLoss: 2.107236\n",
      "Train Epoch: 6 [38400/73257 (52%)]\tLoss: 2.083183\n",
      "Train Epoch: 6 [44800/73257 (61%)]\tLoss: 2.214655\n",
      "Train Epoch: 6 [51200/73257 (70%)]\tLoss: 2.118201\n",
      "Train Epoch: 6 [57600/73257 (79%)]\tLoss: 2.074402\n",
      "Train Epoch: 6 [64000/73257 (87%)]\tLoss: 2.161005\n",
      "Train Epoch: 6 [70400/73257 (96%)]\tLoss: 2.237944\n",
      "Train Epoch: 7 [0/73257 (0%)]\tLoss: 2.148427\n",
      "Train Epoch: 7 [6400/73257 (9%)]\tLoss: 2.149543\n",
      "Train Epoch: 7 [12800/73257 (17%)]\tLoss: 2.029458\n",
      "Train Epoch: 7 [19200/73257 (26%)]\tLoss: 2.087413\n",
      "Train Epoch: 7 [25600/73257 (35%)]\tLoss: 2.010703\n",
      "Train Epoch: 7 [32000/73257 (44%)]\tLoss: 2.159328\n",
      "Train Epoch: 7 [38400/73257 (52%)]\tLoss: 2.085927\n",
      "Train Epoch: 7 [44800/73257 (61%)]\tLoss: 2.219493\n",
      "Train Epoch: 7 [51200/73257 (70%)]\tLoss: 2.096732\n",
      "Train Epoch: 7 [57600/73257 (79%)]\tLoss: 2.092257\n",
      "Train Epoch: 7 [64000/73257 (87%)]\tLoss: 2.116055\n",
      "Train Epoch: 7 [70400/73257 (96%)]\tLoss: 2.028205\n",
      "Train Epoch: 8 [0/73257 (0%)]\tLoss: 2.030621\n",
      "Train Epoch: 8 [6400/73257 (9%)]\tLoss: 2.190932\n",
      "Train Epoch: 8 [12800/73257 (17%)]\tLoss: 2.268000\n",
      "Train Epoch: 8 [19200/73257 (26%)]\tLoss: 2.119744\n",
      "Train Epoch: 8 [25600/73257 (35%)]\tLoss: 1.967557\n",
      "Train Epoch: 8 [32000/73257 (44%)]\tLoss: 2.057248\n",
      "Train Epoch: 8 [38400/73257 (52%)]\tLoss: 1.912053\n",
      "Train Epoch: 8 [44800/73257 (61%)]\tLoss: 2.032445\n",
      "Train Epoch: 8 [51200/73257 (70%)]\tLoss: 2.087821\n",
      "Train Epoch: 8 [57600/73257 (79%)]\tLoss: 1.978266\n",
      "Train Epoch: 8 [64000/73257 (87%)]\tLoss: 2.034122\n",
      "Train Epoch: 8 [70400/73257 (96%)]\tLoss: 1.905364\n",
      "Train Epoch: 9 [0/73257 (0%)]\tLoss: 1.902069\n",
      "Train Epoch: 9 [6400/73257 (9%)]\tLoss: 1.903792\n",
      "Train Epoch: 9 [12800/73257 (17%)]\tLoss: 1.799254\n",
      "Train Epoch: 9 [19200/73257 (26%)]\tLoss: 2.032494\n",
      "Train Epoch: 9 [25600/73257 (35%)]\tLoss: 2.064549\n",
      "Train Epoch: 9 [32000/73257 (44%)]\tLoss: 2.056331\n",
      "Train Epoch: 9 [38400/73257 (52%)]\tLoss: 1.996412\n",
      "Train Epoch: 9 [44800/73257 (61%)]\tLoss: 1.740469\n",
      "Train Epoch: 9 [51200/73257 (70%)]\tLoss: 1.922133\n",
      "Train Epoch: 9 [57600/73257 (79%)]\tLoss: 1.795804\n",
      "Train Epoch: 9 [64000/73257 (87%)]\tLoss: 2.082918\n",
      "Train Epoch: 9 [70400/73257 (96%)]\tLoss: 1.760864\n"
     ]
    },
    {
     "ename": "NameError",
     "evalue": "name 'svhn_model' is not defined",
     "output_type": "error",
     "traceback": [
      "\u001b[0;31m---------------------------------------------------------------------------\u001b[0m",
      "\u001b[0;31mNameError\u001b[0m                                 Traceback (most recent call last)",
      "\u001b[0;32m<ipython-input-184-9f32a6254946>\u001b[0m in \u001b[0;36m<module>\u001b[0;34m\u001b[0m\n\u001b[1;32m      4\u001b[0m \u001b[0mtrain\u001b[0m\u001b[0;34m(\u001b[0m\u001b[0mepochs\u001b[0m\u001b[0;34m,\u001b[0m\u001b[0mtransfer_mnist\u001b[0m\u001b[0;34m,\u001b[0m \u001b[0mtrain_svhn_loader\u001b[0m\u001b[0;34m,\u001b[0m \u001b[0msvhn_optimizer\u001b[0m\u001b[0;34m,\u001b[0m\u001b[0;34m'finetuned_mnist_model.pth'\u001b[0m\u001b[0;34m)\u001b[0m\u001b[0;34m\u001b[0m\u001b[0;34m\u001b[0m\u001b[0m\n\u001b[1;32m      5\u001b[0m \u001b[0;34m\u001b[0m\u001b[0m\n\u001b[0;32m----> 6\u001b[0;31m \u001b[0mtest\u001b[0m\u001b[0;34m(\u001b[0m\u001b[0msvhn_model\u001b[0m\u001b[0;34m,\u001b[0m \u001b[0mtest_svhn_loader\u001b[0m\u001b[0;34m)\u001b[0m\u001b[0;34m\u001b[0m\u001b[0;34m\u001b[0m\u001b[0m\n\u001b[0m\u001b[1;32m      7\u001b[0m \u001b[0;34m\u001b[0m\u001b[0m\n",
      "\u001b[0;31mNameError\u001b[0m: name 'svhn_model' is not defined"
     ]
    }
   ],
   "source": [
    "transfer_mnist = load_model('results/mnist_model.pth')\n",
    "svhn_optimizer = load_optimizer(transfer_mnist,'results/optimizer_mnist_model.pth',learning_rate,momentum)\n",
    "\n",
    "train(epochs,transfer_mnist, train_svhn_loader, svhn_optimizer,'finetuned_mnist_model.pth')\n"
   ]
  },
  {
   "cell_type": "code",
   "execution_count": 186,
   "metadata": {},
   "outputs": [
    {
     "name": "stderr",
     "output_type": "stream",
     "text": [
      "<ipython-input-125-9f487b786d10>:27: UserWarning: Implicit dimension choice for log_softmax has been deprecated. Change the call to include dim=X as an argument.\n",
      "  return F.log_softmax(x)\n"
     ]
    },
    {
     "name": "stdout",
     "output_type": "stream",
     "text": [
      "\r",
      "Test set: Avg. loss: 0.0022, Accuracy: 10065/26032 (39%)\n",
      "\r"
     ]
    }
   ],
   "source": [
    "test_svhn = load_model('results/finetuned_mnist_model.pth')\n",
    "test(test_svhn, test_svhn_loader)"
   ]
  }
 ],
 "metadata": {
  "kernelspec": {
   "display_name": "Python 3",
   "language": "python",
   "name": "python3"
  },
  "language_info": {
   "codemirror_mode": {
    "name": "ipython",
    "version": 3
   },
   "file_extension": ".py",
   "mimetype": "text/x-python",
   "name": "python",
   "nbconvert_exporter": "python",
   "pygments_lexer": "ipython3",
   "version": "3.8.8"
  }
 },
 "nbformat": 4,
 "nbformat_minor": 4
}
