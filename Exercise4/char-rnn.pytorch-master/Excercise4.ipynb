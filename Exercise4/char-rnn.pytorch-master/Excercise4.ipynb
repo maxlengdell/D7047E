{
 "cells": [
  {
   "cell_type": "markdown",
   "metadata": {},
   "source": [
    "# Task 2\n",
    "## Generating 3 sequences of length 100 and priming with  5 random characters."
   ]
  },
  {
   "cell_type": "code",
   "execution_count": 27,
   "metadata": {},
   "outputs": [
    {
     "name": "stdout",
     "output_type": "stream",
     "text": [
      "^C\n"
     ]
    }
   ],
   "source": [
    "! tensorboard --logdir runs"
   ]
  },
  {
   "cell_type": "code",
   "execution_count": 4,
   "metadata": {},
   "outputs": [
    {
     "name": "stdout",
     "output_type": "stream",
     "text": [
      "2 b3n\n",
      "Mescoundwithter the met the not one I mare theal will like king of to kind,\n",
      "But in their not is bea\n"
     ]
    }
   ],
   "source": [
    "! python generate.py shakespeare.pt -p \"2 b3n\""
   ]
  },
  {
   "cell_type": "code",
   "execution_count": 5,
   "metadata": {},
   "outputs": [
    {
     "name": "stdout",
     "output_type": "stream",
     "text": [
      "bg09ZLA:\n",
      "New your so heart.\n",
      "I thim than I, ead king megy.\n",
      "\n",
      "YORK:\n",
      "O begriom loft the not be\n",
      "Shour her will\n"
     ]
    }
   ],
   "source": [
    "! python generate.py shakespeare.pt -p \"bg09Z\""
   ]
  },
  {
   "cell_type": "code",
   "execution_count": 6,
   "metadata": {},
   "outputs": [
    {
     "name": "stdout",
     "output_type": "stream",
     "text": [
      "qty 6eales:\n",
      "By apory intherencled to peent a poot of cule, ar a mare of enwish meming of this besent toul\n"
     ]
    }
   ],
   "source": [
    "! python generate.py shakespeare.pt -p \"qty 6\""
   ]
  },
  {
   "cell_type": "markdown",
   "metadata": {},
   "source": [
    "# Task 3\n",
    "## Generating sequences with given priming"
   ]
  },
  {
   "cell_type": "code",
   "execution_count": 22,
   "metadata": {},
   "outputs": [
    {
     "name": "stdout",
     "output_type": "stream",
     "text": [
      "The to him,\n",
      "Wed seak to did me to ingererfor:\n",
      "A pay, the sistain to must is semore.\n",
      "\n",
      "KING vAWONTE:\n",
      "What\n"
     ]
    }
   ],
   "source": [
    "! python generate.py shakespeare.pt -p \"The\""
   ]
  },
  {
   "cell_type": "code",
   "execution_count": 23,
   "metadata": {},
   "outputs": [
    {
     "name": "stdout",
     "output_type": "stream",
     "text": [
      "What is the:\n",
      "And bitence now turn the with sizer the not be your such'd me tems and palnight come\n",
      "Thall and\n"
     ]
    }
   ],
   "source": [
    "! python generate.py shakespeare.pt -p \"What is\""
   ]
  },
  {
   "cell_type": "code",
   "execution_count": 24,
   "metadata": {},
   "outputs": [
    {
     "name": "stdout",
     "output_type": "stream",
     "text": [
      "Shall I gives\n",
      "The doness of goate with be be recair, break this me thou.\n",
      "To whod whose and hands the dause.\n",
      "I I \n"
     ]
    }
   ],
   "source": [
    "! python generate.py shakespeare.pt -p \"Shall I give\""
   ]
  },
  {
   "cell_type": "code",
   "execution_count": 25,
   "metadata": {},
   "outputs": [
    {
     "name": "stdout",
     "output_type": "stream",
     "text": [
      "X087hNYB BHN BYFVuhsdbsay you maller brire thou she poth unor's not the dedon in men, in brotaes comate for home\n",
      "wolleses t\n"
     ]
    }
   ],
   "source": [
    "! python generate.py shakespeare.pt -p \"X087hNYB BHN BYFVuhsdbs\""
   ]
  }
 ],
 "metadata": {
  "kernelspec": {
   "display_name": "Python 3",
   "language": "python",
   "name": "python3"
  },
  "language_info": {
   "codemirror_mode": {
    "name": "ipython",
    "version": 3
   },
   "file_extension": ".py",
   "mimetype": "text/x-python",
   "name": "python",
   "nbconvert_exporter": "python",
   "pygments_lexer": "ipython3",
   "version": "3.6.12"
  }
 },
 "nbformat": 4,
 "nbformat_minor": 4
}
